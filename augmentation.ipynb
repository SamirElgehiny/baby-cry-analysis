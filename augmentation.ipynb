{
  "cells": [
    {
      "cell_type": "code",
      "execution_count": null,
      "metadata": {
        "id": "kowxVguoLB-_"
      },
      "outputs": [],
      "source": [
        "import librosa\n",
        "import numpy as np\n",
        "import os\n",
        "\n",
        "# Define the audio augmentation functions\n",
        "def  time_stretch(audio_data, rate):\n",
        "    return librosa.effects.time_stretch(audio_data, rate=rate)\n",
        "\n",
        "\n",
        "def pitch_shift(audio_data, shift_steps):\n",
        "    return librosa.effects.pitch_shift(audio_data, sr=22050, n_steps=shift_steps)\n",
        "\n",
        "def add_background_noise(audio_data, noise):\n",
        "    noise_offset = np.random.randint(0, noise.shape[0] - audio_data.shape[0])\n",
        "    noise_sample = noise[noise_offset:noise_offset + audio_data.shape[0]]\n",
        "    return audio_data + noise_sample * 0.2\n",
        "\n",
        "def change_volume(audio_data, level):\n",
        "    return audio_data * level\n",
        "\n",
        "def time_shift(audio_data, shift):\n",
        "    return np.roll(audio_data, shift)\n"
      ]
    },
    {
      "cell_type": "code",
      "execution_count": null,
      "metadata": {
        "id": "Ox5yFd2XSBMT"
      },
      "outputs": [],
      "source": [
        "# Define the audio data directory, class labels, and the output directory for the augmented data\n",
        "audio_dir = '/content/drive/MyDrive/donateacry'\n",
        "class_labels = ['belly_pain', 'burping', 'discomfort', 'hungry', 'tired']\n",
        "output_dir = '/content/drive/MyDrive/augmented donateacry'"
      ]
    },
    {
      "cell_type": "code",
      "execution_count": null,
      "metadata": {
        "id": "uzfS9G_TS0IJ"
      },
      "outputs": [],
      "source": [
        "import soundfile as sf\n",
        "\n",
        "# Load the audio files and apply augmentation techniques\n",
        "for label in class_labels:\n",
        "    class_audio_dir = os.path.join(audio_dir, label)\n",
        "    class_output_dir = os.path.join(output_dir, label)\n",
        "    os.makedirs(class_output_dir, exist_ok=True)\n",
        "    for filename in os.listdir(class_audio_dir):\n",
        "        if filename.endswith('.wav'):\n",
        "            # Load the audio file\n",
        "            audio_path = os.path.join(class_audio_dir, filename)\n",
        "            audio_data, sr = librosa.load(audio_path, sr=22050)\n",
        "\n",
        "            # Apply time stretching\n",
        "            stretched_audio = time_stretch(audio_data, np.random.uniform(0.8, 1.2))\n",
        "            output_path = os.path.join(class_output_dir, f'{filename[:-4]}_stretched.wav')\n",
        "            sf.write(output_path, stretched_audio, sr)\n",
        "            \n",
        "\n",
        "            # Apply pitch shifting\n",
        "            pitch_shifted_audio = pitch_shift(audio_data, np.random.randint(-3, 3))\n",
        "            output_path = os.path.join(class_output_dir, f'{filename[:-4]}_pitch_shifted.wav')\n",
        "            sf.write(output_path, stretched_audio, sr)\n",
        "\n",
        "            # # Add background noise\n",
        "            # noise_path = 'path/to/background/noise'\n",
        "            # noise_data, sr = librosa.load(noise_path, sr=22050)\n",
        "            # noisy_audio = add_background_noise(audio_data, noise_data)\n",
        "            # output_path = os.path.join(class_output_dir, f'{filename[:-4]}_noisy.wav')\n",
        "            # sf.write(output_path, stretched_audio, sr)\n",
        "\n",
        "            # Change volume\n",
        "            vol_level = np.random.uniform(0.5, 2.0)\n",
        "            vol_changed_audio = change_volume(audio_data, vol_level)\n",
        "            output_path = os.path.join(class_output_dir, f'{filename[:-4]}_vol_changed.wav')\n",
        "            sf.write(output_path, stretched_audio, sr)\n",
        "\n",
        "            # Time shift\n",
        "            time_shifted_audio = time_shift(audio_data, np.random.randint(-22050, 22050))\n",
        "            output_path = os.path.join(class_output_dir, f'{filename[:-4]}_time_shifted.wav')\n",
        "            sf.write(output_path, stretched_audio, sr)"
      ]
    }
  ],
  "metadata": {
    "colab": {
      "provenance": []
    },
    "kernelspec": {
      "display_name": "Python 3",
      "name": "python3"
    },
    "language_info": {
      "name": "python"
    }
  },
  "nbformat": 4,
  "nbformat_minor": 0
}
