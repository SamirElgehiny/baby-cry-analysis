{
 "cells": [
  {
   "cell_type": "code",
   "execution_count": 3,
   "metadata": {},
   "outputs": [],
   "source": [
    "import librosa\n",
    "import numpy as np\n",
    "import os\n",
    "import matplotlib.pyplot as plt\n",
    "\n",
    "def preprocess_audio_folder(audio_folder_path, mel_output_folder_path, cqt_output_folder_path, sr=32000, n_fft=2048, hop_length=512, n_mels=128, batch_size=10):\n",
    "    for root, dirs, files in os.walk(audio_folder_path):\n",
    "        for dir in dirs:\n",
    "            input_dir = os.path.join(root, dir)\n",
    "\n",
    "            for file_name in os.listdir(input_dir):\n",
    "                if file_name.endswith('.ogg'):\n",
    "                    mel_output_dir = os.path.join(mel_output_folder_path, dir)\n",
    "                    cqt_output_dir = os.path.join(cqt_output_folder_path, dir)\n",
    "                    os.makedirs(mel_output_dir, exist_ok=True)\n",
    "                    os.makedirs(cqt_output_dir, exist_ok=True)\n",
    "\n",
    "                    # Load audio file\n",
    "                    file_path = os.path.join(input_dir, file_name)\n",
    "                    audio, _ = librosa.load(file_path, sr=sr)\n",
    "\n",
    "                    # Reshape audio data if necessary\n",
    "                    if len(audio.shape) > 1:\n",
    "                        audio = np.mean(audio, axis=1)\n",
    "\n",
    "                    # Compute Mel spectrogram\n",
    "                    mel_spec = librosa.feature.melspectrogram(y=audio, sr=sr, n_fft=n_fft, hop_length=hop_length, n_mels=n_mels)\n",
    "                    mel_spec_db = librosa.power_to_db(mel_spec, ref=np.max)\n",
    "\n",
    "                    # Compute CQT spectrogram\n",
    "                    cqt_spec = librosa.cqt(audio, sr=sr, hop_length=hop_length)\n",
    "                    cqt_mag_spec = np.abs(cqt_spec)\n",
    "                    cqt_mag_spec_db = librosa.amplitude_to_db(cqt_mag_spec, ref=np.max)\n",
    "\n",
    "                    # Save Mel spectrogram as PNG image to Mel output folder\n",
    "                    mel_output_file_path = os.path.join(mel_output_dir, file_name.replace('.ogg', '_mel.png'))\n",
    "                    plt.figure(figsize=(10, 4))\n",
    "                    librosa.display.specshow(mel_spec_db, sr=sr, hop_length=hop_length, x_axis='time', y_axis='mel')\n",
    "                    plt.colorbar(format='%+2.0f dB')\n",
    "                    plt.savefig(mel_output_file_path, bbox_inches='tight')\n",
    "                    plt.close()\n",
    "\n",
    "                    # Save CQT spectrogram as PNG image to CQT output folder\n",
    "                    cqt_output_file_path = os.path.join(cqt_output_dir, file_name.replace('.ogg', '_cqt.png'))\n",
    "                    plt.figure(figsize=(10, 4))\n",
    "                    librosa.display.specshow(cqt_mag_spec_db, sr=sr, hop_length=hop_length, x_axis='time', y_axis='cqt_note')\n",
    "                    plt.colorbar(format='%+2.0f dB')\n",
    "                    plt.savefig(cqt_output_file_path, bbox_inches='tight')\n",
    "                    plt.close()\n",
    "\n",
    "                    # Clear memory\n",
    "                    del audio, mel_spec, mel_spec_db, cqt_spec, cqt_mag_spec, cqt_mag_spec_db\n",
    "\n",
    "\n"
   ]
  },
  {
   "cell_type": "code",
   "execution_count": 4,
   "metadata": {},
   "outputs": [
    {
     "ename": "KeyboardInterrupt",
     "evalue": "",
     "output_type": "error",
     "traceback": [
      "\u001b[0;31m---------------------------------------------------------------------------\u001b[0m",
      "\u001b[0;31mKeyboardInterrupt\u001b[0m                         Traceback (most recent call last)",
      "Cell \u001b[0;32mIn[4], line 1\u001b[0m\n\u001b[0;32m----> 1\u001b[0m preprocess_audio_folder(\u001b[39m'\u001b[39;49m\u001b[39m/Users/sammerking/Desktop/birds/train_audio\u001b[39;49m\u001b[39m'\u001b[39;49m, \u001b[39m'\u001b[39;49m\u001b[39m/Users/sammerking/Desktop/birds/mel\u001b[39;49m\u001b[39m'\u001b[39;49m, \u001b[39m'\u001b[39;49m\u001b[39m/Users/sammerking/Desktop/birds/cqt\u001b[39;49m\u001b[39m'\u001b[39;49m)\n",
      "Cell \u001b[0;32mIn[3], line 31\u001b[0m, in \u001b[0;36mpreprocess_audio_folder\u001b[0;34m(audio_folder_path, mel_output_folder_path, cqt_output_folder_path, sr, n_fft, hop_length, n_mels, batch_size)\u001b[0m\n\u001b[1;32m     28\u001b[0m mel_spec_db \u001b[39m=\u001b[39m librosa\u001b[39m.\u001b[39mpower_to_db(mel_spec, ref\u001b[39m=\u001b[39mnp\u001b[39m.\u001b[39mmax)\n\u001b[1;32m     30\u001b[0m \u001b[39m# Compute CQT spectrogram\u001b[39;00m\n\u001b[0;32m---> 31\u001b[0m cqt_spec \u001b[39m=\u001b[39m librosa\u001b[39m.\u001b[39;49mcqt(audio, sr\u001b[39m=\u001b[39;49msr, hop_length\u001b[39m=\u001b[39;49mhop_length)\n\u001b[1;32m     32\u001b[0m cqt_mag_spec \u001b[39m=\u001b[39m np\u001b[39m.\u001b[39mabs(cqt_spec)\n\u001b[1;32m     33\u001b[0m cqt_mag_spec_db \u001b[39m=\u001b[39m librosa\u001b[39m.\u001b[39mamplitude_to_db(cqt_mag_spec, ref\u001b[39m=\u001b[39mnp\u001b[39m.\u001b[39mmax)\n",
      "File \u001b[0;32m/Library/Frameworks/Python.framework/Versions/3.10/lib/python3.10/site-packages/librosa/core/constantq.py:172\u001b[0m, in \u001b[0;36mcqt\u001b[0;34m(y, sr, hop_length, fmin, n_bins, bins_per_octave, tuning, filter_scale, norm, sparsity, window, scale, pad_mode, res_type, dtype)\u001b[0m\n\u001b[1;32m     46\u001b[0m \u001b[39m\u001b[39m\u001b[39m\"\"\"Compute the constant-Q transform of an audio signal.\u001b[39;00m\n\u001b[1;32m     47\u001b[0m \n\u001b[1;32m     48\u001b[0m \u001b[39mThis implementation is based on the recursive sub-sampling method\u001b[39;00m\n\u001b[0;32m   (...)\u001b[0m\n\u001b[1;32m    168\u001b[0m \u001b[39m       [5.147e-02, 6.959e-02, ..., 1.694e-05, 5.811e-06]])\u001b[39;00m\n\u001b[1;32m    169\u001b[0m \u001b[39m\"\"\"\u001b[39;00m\n\u001b[1;32m    171\u001b[0m \u001b[39m# CQT is the special case of VQT with gamma=0\u001b[39;00m\n\u001b[0;32m--> 172\u001b[0m \u001b[39mreturn\u001b[39;00m vqt(\n\u001b[1;32m    173\u001b[0m     y\u001b[39m=\u001b[39;49my,\n\u001b[1;32m    174\u001b[0m     sr\u001b[39m=\u001b[39;49msr,\n\u001b[1;32m    175\u001b[0m     hop_length\u001b[39m=\u001b[39;49mhop_length,\n\u001b[1;32m    176\u001b[0m     fmin\u001b[39m=\u001b[39;49mfmin,\n\u001b[1;32m    177\u001b[0m     n_bins\u001b[39m=\u001b[39;49mn_bins,\n\u001b[1;32m    178\u001b[0m     intervals\u001b[39m=\u001b[39;49m\u001b[39m\"\u001b[39;49m\u001b[39mequal\u001b[39;49m\u001b[39m\"\u001b[39;49m,\n\u001b[1;32m    179\u001b[0m     gamma\u001b[39m=\u001b[39;49m\u001b[39m0\u001b[39;49m,\n\u001b[1;32m    180\u001b[0m     bins_per_octave\u001b[39m=\u001b[39;49mbins_per_octave,\n\u001b[1;32m    181\u001b[0m     tuning\u001b[39m=\u001b[39;49mtuning,\n\u001b[1;32m    182\u001b[0m     filter_scale\u001b[39m=\u001b[39;49mfilter_scale,\n\u001b[1;32m    183\u001b[0m     norm\u001b[39m=\u001b[39;49mnorm,\n\u001b[1;32m    184\u001b[0m     sparsity\u001b[39m=\u001b[39;49msparsity,\n\u001b[1;32m    185\u001b[0m     window\u001b[39m=\u001b[39;49mwindow,\n\u001b[1;32m    186\u001b[0m     scale\u001b[39m=\u001b[39;49mscale,\n\u001b[1;32m    187\u001b[0m     pad_mode\u001b[39m=\u001b[39;49mpad_mode,\n\u001b[1;32m    188\u001b[0m     res_type\u001b[39m=\u001b[39;49mres_type,\n\u001b[1;32m    189\u001b[0m     dtype\u001b[39m=\u001b[39;49mdtype,\n\u001b[1;32m    190\u001b[0m )\n",
      "File \u001b[0;32m/Library/Frameworks/Python.framework/Versions/3.10/lib/python3.10/site-packages/librosa/core/constantq.py:1018\u001b[0m, in \u001b[0;36mvqt\u001b[0;34m(y, sr, hop_length, fmin, n_bins, intervals, gamma, bins_per_octave, tuning, filter_scale, norm, sparsity, window, scale, pad_mode, res_type, dtype)\u001b[0m\n\u001b[1;32m   1016\u001b[0m         my_hop \u001b[39m/\u001b[39m\u001b[39m/\u001b[39m\u001b[39m=\u001b[39m \u001b[39m2\u001b[39m\n\u001b[1;32m   1017\u001b[0m         my_sr \u001b[39m/\u001b[39m\u001b[39m=\u001b[39m \u001b[39m2.0\u001b[39m\n\u001b[0;32m-> 1018\u001b[0m         my_y \u001b[39m=\u001b[39m audio\u001b[39m.\u001b[39;49mresample(\n\u001b[1;32m   1019\u001b[0m             my_y, orig_sr\u001b[39m=\u001b[39;49m\u001b[39m2\u001b[39;49m, target_sr\u001b[39m=\u001b[39;49m\u001b[39m1\u001b[39;49m, res_type\u001b[39m=\u001b[39;49mres_type, scale\u001b[39m=\u001b[39;49m\u001b[39mTrue\u001b[39;49;00m\n\u001b[1;32m   1020\u001b[0m         )\n\u001b[1;32m   1022\u001b[0m V \u001b[39m=\u001b[39m __trim_stack(vqt_resp, n_bins, dtype)\n\u001b[1;32m   1024\u001b[0m \u001b[39mif\u001b[39;00m scale:\n\u001b[1;32m   1025\u001b[0m     \u001b[39m# Recompute lengths here because early downsampling may have changed\u001b[39;00m\n\u001b[1;32m   1026\u001b[0m     \u001b[39m# our sampling rate\u001b[39;00m\n",
      "File \u001b[0;32m/Library/Frameworks/Python.framework/Versions/3.10/lib/python3.10/site-packages/librosa/core/audio.py:675\u001b[0m, in \u001b[0;36mresample\u001b[0;34m(y, orig_sr, target_sr, res_type, fix, scale, axis, **kwargs)\u001b[0m\n\u001b[1;32m    669\u001b[0m     y_hat \u001b[39m=\u001b[39m np\u001b[39m.\u001b[39mapply_along_axis(\n\u001b[1;32m    670\u001b[0m         samplerate\u001b[39m.\u001b[39mresample, axis\u001b[39m=\u001b[39maxis, arr\u001b[39m=\u001b[39my, ratio\u001b[39m=\u001b[39mratio, converter_type\u001b[39m=\u001b[39mres_type\n\u001b[1;32m    671\u001b[0m     )\n\u001b[1;32m    672\u001b[0m \u001b[39melif\u001b[39;00m res_type\u001b[39m.\u001b[39mstartswith(\u001b[39m\"\u001b[39m\u001b[39msoxr\u001b[39m\u001b[39m\"\u001b[39m):\n\u001b[1;32m    673\u001b[0m     \u001b[39m# Use numpy to vectorize the resampler along the target axis\u001b[39;00m\n\u001b[1;32m    674\u001b[0m     \u001b[39m# This is because soxr does not support ndim>2 generally.\u001b[39;00m\n\u001b[0;32m--> 675\u001b[0m     y_hat \u001b[39m=\u001b[39m np\u001b[39m.\u001b[39;49mapply_along_axis(\n\u001b[1;32m    676\u001b[0m         soxr\u001b[39m.\u001b[39;49mresample,\n\u001b[1;32m    677\u001b[0m         axis\u001b[39m=\u001b[39;49maxis,\n\u001b[1;32m    678\u001b[0m         arr\u001b[39m=\u001b[39;49my,\n\u001b[1;32m    679\u001b[0m         in_rate\u001b[39m=\u001b[39;49morig_sr,\n\u001b[1;32m    680\u001b[0m         out_rate\u001b[39m=\u001b[39;49mtarget_sr,\n\u001b[1;32m    681\u001b[0m         quality\u001b[39m=\u001b[39;49mres_type,\n\u001b[1;32m    682\u001b[0m     )\n\u001b[1;32m    683\u001b[0m \u001b[39melse\u001b[39;00m:\n\u001b[1;32m    684\u001b[0m     y_hat \u001b[39m=\u001b[39m resampy\u001b[39m.\u001b[39mresample(y, orig_sr, target_sr, \u001b[39mfilter\u001b[39m\u001b[39m=\u001b[39mres_type, axis\u001b[39m=\u001b[39maxis)\n",
      "File \u001b[0;32m<__array_function__ internals>:180\u001b[0m, in \u001b[0;36mapply_along_axis\u001b[0;34m(*args, **kwargs)\u001b[0m\n",
      "File \u001b[0;32m/Library/Frameworks/Python.framework/Versions/3.10/lib/python3.10/site-packages/numpy/lib/shape_base.py:379\u001b[0m, in \u001b[0;36mapply_along_axis\u001b[0;34m(func1d, axis, arr, *args, **kwargs)\u001b[0m\n\u001b[1;32m    375\u001b[0m \u001b[39mexcept\u001b[39;00m \u001b[39mStopIteration\u001b[39;00m \u001b[39mas\u001b[39;00m e:\n\u001b[1;32m    376\u001b[0m     \u001b[39mraise\u001b[39;00m \u001b[39mValueError\u001b[39;00m(\n\u001b[1;32m    377\u001b[0m         \u001b[39m'\u001b[39m\u001b[39mCannot apply_along_axis when any iteration dimensions are 0\u001b[39m\u001b[39m'\u001b[39m\n\u001b[1;32m    378\u001b[0m     ) \u001b[39mfrom\u001b[39;00m \u001b[39mNone\u001b[39;00m\n\u001b[0;32m--> 379\u001b[0m res \u001b[39m=\u001b[39m asanyarray(func1d(inarr_view[ind0], \u001b[39m*\u001b[39;49margs, \u001b[39m*\u001b[39;49m\u001b[39m*\u001b[39;49mkwargs))\n\u001b[1;32m    381\u001b[0m \u001b[39m# build a buffer for storing evaluations of func1d.\u001b[39;00m\n\u001b[1;32m    382\u001b[0m \u001b[39m# remove the requested axis, and add the new ones on the end.\u001b[39;00m\n\u001b[1;32m    383\u001b[0m \u001b[39m# laid out so that each write is contiguous.\u001b[39;00m\n\u001b[1;32m    384\u001b[0m \u001b[39m# for a tuple index inds, buff[inds] = func1d(inarr_view[inds])\u001b[39;00m\n\u001b[1;32m    385\u001b[0m buff \u001b[39m=\u001b[39m zeros(inarr_view\u001b[39m.\u001b[39mshape[:\u001b[39m-\u001b[39m\u001b[39m1\u001b[39m] \u001b[39m+\u001b[39m res\u001b[39m.\u001b[39mshape, res\u001b[39m.\u001b[39mdtype)\n",
      "File \u001b[0;32m/Library/Frameworks/Python.framework/Versions/3.10/lib/python3.10/site-packages/soxr/__init__.py:160\u001b[0m, in \u001b[0;36mresample\u001b[0;34m(x, in_rate, out_rate, quality)\u001b[0m\n\u001b[1;32m    157\u001b[0m x \u001b[39m=\u001b[39m np\u001b[39m.\u001b[39mascontiguousarray(x)    \u001b[39m# make array C-contiguous\u001b[39;00m\n\u001b[1;32m    159\u001b[0m \u001b[39mif\u001b[39;00m x\u001b[39m.\u001b[39mndim \u001b[39m==\u001b[39m \u001b[39m1\u001b[39m:\n\u001b[0;32m--> 160\u001b[0m     y \u001b[39m=\u001b[39m cysoxr_divide_proc(in_rate, out_rate, x[:, np\u001b[39m.\u001b[39;49mnewaxis], q)\n\u001b[1;32m    161\u001b[0m     \u001b[39mreturn\u001b[39;00m np\u001b[39m.\u001b[39msqueeze(y, axis\u001b[39m=\u001b[39m\u001b[39m1\u001b[39m)\n\u001b[1;32m    162\u001b[0m \u001b[39melif\u001b[39;00m x\u001b[39m.\u001b[39mndim \u001b[39m==\u001b[39m \u001b[39m2\u001b[39m:\n",
      "\u001b[0;31mKeyboardInterrupt\u001b[0m: "
     ]
    }
   ],
   "source": [
    "preprocess_audio_folder('/Users/sammerking/Desktop/birds/train_audio', '/Users/sammerking/Desktop/birds/mel', '/Users/sammerking/Desktop/birds/cqt')\n"
   ]
  },
  {
   "cell_type": "code",
   "execution_count": null,
   "metadata": {},
   "outputs": [],
   "source": []
  }
 ],
 "metadata": {
  "kernelspec": {
   "display_name": "Python 3",
   "language": "python",
   "name": "python3"
  },
  "language_info": {
   "codemirror_mode": {
    "name": "ipython",
    "version": 3
   },
   "file_extension": ".py",
   "mimetype": "text/x-python",
   "name": "python",
   "nbconvert_exporter": "python",
   "pygments_lexer": "ipython3",
   "version": "3.10.0"
  },
  "orig_nbformat": 4
 },
 "nbformat": 4,
 "nbformat_minor": 2
}
