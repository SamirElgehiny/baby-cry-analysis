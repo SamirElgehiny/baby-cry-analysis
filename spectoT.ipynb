{
 "cells": [
  {
   "cell_type": "code",
   "execution_count": null,
   "metadata": {},
   "outputs": [],
   "source": [
    "import librosa\n",
    "import numpy as np\n",
    "import os\n",
    "import matplotlib.pyplot as plt\n",
    "\n",
    "def preprocess_audio_folder(audio_folder_path, mel_output_folder_path, cqt_output_folder_path, sr=32000, n_fft=2048, hop_length=512, n_mels=128, batch_size=10):\n",
    "    for root, dirs, files in os.walk(audio_folder_path):\n",
    "        for dir in dirs:\n",
    "            input_dir = os.path.join(root, dir)\n",
    "\n",
    "            for file_name in os.listdir(input_dir):\n",
    "                if file_name.endswith('.ogg'):\n",
    "                    mel_output_dir = os.path.join(mel_output_folder_path, dir)\n",
    "                    cqt_output_dir = os.path.join(cqt_output_folder_path, dir)\n",
    "                    os.makedirs(mel_output_dir, exist_ok=True)\n",
    "                    os.makedirs(cqt_output_dir, exist_ok=True)\n",
    "\n",
    "                    # Load audio file\n",
    "                    file_path = os.path.join(input_dir, file_name)\n",
    "                    audio, _ = librosa.load(file_path, sr=sr)\n",
    "\n",
    "                    # Reshape audio data if necessary\n",
    "                    if len(audio.shape) > 1:\n",
    "                        audio = np.mean(audio, axis=1)\n",
    "\n",
    "                    # Compute Mel spectrogram\n",
    "                    mel_spec = librosa.feature.melspectrogram(y=audio, sr=sr, n_fft=n_fft, hop_length=hop_length, n_mels=n_mels)\n",
    "                    mel_spec_db = librosa.power_to_db(mel_spec, ref=np.max)\n",
    "\n",
    "                    # Compute CQT spectrogram\n",
    "                    cqt_spec = librosa.cqt(audio, sr=sr, hop_length=hop_length)\n",
    "                    cqt_mag_spec = np.abs(cqt_spec)\n",
    "                    cqt_mag_spec_db = librosa.amplitude_to_db(cqt_mag_spec, ref=np.max)\n",
    "\n",
    "                    # Save Mel spectrogram as PNG image to Mel output folder\n",
    "                    mel_output_file_path = os.path.join(mel_output_dir, file_name.replace('.ogg', '_mel.png'))\n",
    "                    plt.figure(figsize=(10, 4))\n",
    "                    librosa.display.specshow(mel_spec_db, sr=sr, hop_length=hop_length, x_axis='time', y_axis='mel')\n",
    "                    plt.colorbar(format='%+2.0f dB')\n",
    "                    plt.savefig(mel_output_file_path, bbox_inches='tight')\n",
    "                    plt.close()\n",
    "\n",
    "                    # Save CQT spectrogram as PNG image to CQT output folder\n",
    "                    cqt_output_file_path = os.path.join(cqt_output_dir, file_name.replace('.ogg', '_cqt.png'))\n",
    "                    plt.figure(figsize=(10, 4))\n",
    "                    librosa.display.specshow(cqt_mag_spec_db, sr=sr, hop_length=hop_length, x_axis='time', y_axis='cqt_note')\n",
    "                    plt.colorbar(format='%+2.0f dB')\n",
    "                    plt.savefig(cqt_output_file_path, bbox_inches='tight')\n",
    "                    plt.close()\n",
    "\n",
    "                    # Clear memory\n",
    "                    del audio, mel_spec, mel_spec_db, cqt_spec, cqt_mag_spec, cqt_mag_spec_db\n",
    "\n",
    "\n"
   ]
  },
  {
   "cell_type": "code",
   "execution_count": null,
   "metadata": {},
   "outputs": [],
   "source": []
  }
 ],
 "metadata": {
  "kernelspec": {
   "display_name": "Python 3",
   "language": "python",
   "name": "python3"
  },
  "language_info": {
   "codemirror_mode": {
    "name": "ipython",
    "version": 3
   },
   "file_extension": ".py",
   "mimetype": "text/x-python",
   "name": "python",
   "nbconvert_exporter": "python",
   "pygments_lexer": "ipython3",
   "version": "3.10.0"
  },
  "orig_nbformat": 4
 },
 "nbformat": 4,
 "nbformat_minor": 2
}
