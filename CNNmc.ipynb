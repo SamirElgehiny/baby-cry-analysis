{
  "cells": [
    {
      "cell_type": "code",
      "execution_count": null,
      "metadata": {
        "colab": {
          "base_uri": "https://localhost:8080/"
        },
        "id": "tAb77yZ9fzMG",
        "outputId": "82e720be-4598-4a45-db9d-54ed63ab7c65"
      },
      "outputs": [
        {
          "name": "stdout",
          "output_type": "stream",
          "text": [
            "Mounted at /content/drive\n"
          ]
        }
      ],
      "source": [
        "from google.colab import drive\n",
        "drive.mount('/content/drive')"
      ]
    },
    {
      "cell_type": "code",
      "execution_count": null,
      "metadata": {
        "id": "pafL7Li0jyXW"
      },
      "outputs": [],
      "source": [
        "import numpy as np\n",
        "import librosa.display, os\n",
        "import matplotlib.pyplot as plt\n",
        "%matplotlib inline\n",
        "import matplotlib.pyplot as plt\n",
        "from keras.preprocessing import image\n",
        "import os\n",
        "import numpy as np\n",
        "import tensorflow as tf\n",
        "import numpy as np\n",
        "import librosa.display, os\n",
        "import matplotlib.pyplot as plt\n",
        "%matplotlib inline\n",
        "import matplotlib.pyplot as plt \n",
        "from keras.preprocessing import image\n",
        "import os\n",
        "import numpy as np\n",
        "import tensorflow as tf\n",
        "from tensorflow.keras.preprocessing.image import load_img, img_to_array, ImageDataGenerator\n",
        "from tensorflow.keras.utils import to_categorical\n",
        "from tensorflow.keras.models import Model\n",
        "from tensorflow.keras.layers import Input, Conv2D, MaxPooling2D, Flatten, Dense, concatenate, Dropout\n",
        "from tensorflow.keras.optimizers import Adam\n",
        "import os\n",
        "import soundfile as sf\n",
        "import numpy as np\n",
        "import librosa\n",
        "from skimage.transform import resize\n",
        "import pandas as pd\n",
        "from tqdm import tqdm\n",
        "from sklearn.model_selection import KFold\n",
        "\n",
        "\n",
        "\n",
        "\n",
        "\n",
        "\n",
        "mel_train = []\n",
        "cqt_train = []\n",
        "mel_test = []\n",
        "cqt_test = []\n",
        "label_train = []\n",
        "label_test = []"
      ]
    },
    {
      "cell_type": "code",
      "execution_count": null,
      "metadata": {
        "id": "iWFb_ALytSi6"
      },
      "outputs": [],
      "source": [
        "def load_images_from_path(path, label):\n",
        "    images = []\n",
        "    labels = []\n",
        "\n",
        "    for file in os.listdir(path):\n",
        "        images.append(tf.keras.preprocessing.image.img_to_array(tf.keras.preprocessing.image.load_img(os.path.join(path, file), target_size=(224, 224, 3))))\n",
        "        labels.append((label))\n",
        "        \n",
        "    return images, labels"
      ]
    },
    {
      "cell_type": "code",
      "execution_count": null,
      "metadata": {
        "id": "BBg747MktT4i"
      },
      "outputs": [],
      "source": [
        "images, labels = load_images_from_path('/content/drive/MyDrive/spectro_aug_tt/train/pain', 0)\n",
        "    \n",
        "mel_train += images\n",
        "label_train += labels\n",
        "\n",
        "images, labels = load_images_from_path('/content/drive/MyDrive/spectro_aug_tt/train/burping', 1)\n",
        "    \n",
        "mel_train += images\n",
        "label_train += labels\n",
        "\n",
        "images, labels = load_images_from_path('/content/drive/MyDrive/spectro_aug_tt/train/discomfort', 2)\n",
        "    \n",
        "mel_train += images\n",
        "label_train += labels\n",
        "\n",
        "images, labels = load_images_from_path('/content/drive/MyDrive/spectro_aug_tt/train/hungry', 3)\n",
        "    \n",
        "mel_train += images\n",
        "label_train += labels\n",
        "\n",
        "images, labels = load_images_from_path('/content/drive/MyDrive/spectro_aug_tt/train/tired', 4)\n",
        "    \n",
        "mel_train += images\n",
        "label_train += labels"
      ]
    },
    {
      "cell_type": "code",
      "execution_count": null,
      "metadata": {
        "id": "VvDnYVEftVQf"
      },
      "outputs": [],
      "source": [
        "images, labels = load_images_from_path('/content/drive/MyDrive/spectro_aug_tt/test/pain', 0)\n",
        "    \n",
        "mel_test += images\n",
        "label_test += labels\n",
        "\n",
        "images, labels = load_images_from_path('/content/drive/MyDrive/spectro_aug_tt/test/burping', 1)\n",
        "    \n",
        "mel_test += images\n",
        "label_test += labels\n",
        "\n",
        "images, labels = load_images_from_path('/content/drive/MyDrive/spectro_aug_tt/test/discomfort', 2)\n",
        "    \n",
        "mel_test += images\n",
        "label_test += labels\n",
        "\n",
        "images, labels = load_images_from_path('/content/drive/MyDrive/spectro_aug_tt/test/hungry', 3)\n",
        "    \n",
        "mel_test += images\n",
        "label_test += labels\n",
        "\n",
        "images, labels = load_images_from_path('/content/drive/MyDrive/spectro_aug_tt/test/tired', 4)\n",
        "    \n",
        "mel_test += images\n",
        "label_test += labels"
      ]
    },
    {
      "cell_type": "code",
      "execution_count": null,
      "metadata": {
        "id": "zznIRt0ztXBd"
      },
      "outputs": [],
      "source": [
        "\n",
        "def load_images_from_path_1(path):\n",
        "    images = []\n",
        "    \n",
        "    for root, _, files in os.walk(path):\n",
        "        for file in files:\n",
        "            file_path = os.path.join(root, file)\n",
        "            images.append(tf.keras.preprocessing.image.img_to_array(tf.keras.preprocessing.image.load_img(file_path, target_size=(224, 224, 3))))\n",
        "    \n",
        "    return images"
      ]
    },
    {
      "cell_type": "code",
      "execution_count": null,
      "metadata": {
        "id": "qJ-4SNIMtYSp"
      },
      "outputs": [],
      "source": [
        "images  = load_images_from_path_1('/content/drive/MyDrive/spectro_aug_cqt_tt/train')\n",
        "    \n",
        "cqt_train += images\n"
      ]
    },
    {
      "cell_type": "code",
      "execution_count": null,
      "metadata": {
        "id": "8S5fVQpZtZse"
      },
      "outputs": [],
      "source": [
        "images  = load_images_from_path_1('/content/drive/MyDrive/spectro_aug_cqt_tt/test')\n",
        "\n",
        "cqt_test += images"
      ]
    },
    {
      "cell_type": "code",
      "execution_count": null,
      "metadata": {
        "id": "AghAeD92ta9z"
      },
      "outputs": [],
      "source": [
        "from tensorflow.keras.utils import to_categorical\n",
        "\n",
        "mel_train_norm = np.array(mel_train) / 255\n",
        "mel_test_norm = np.array(mel_test) / 255\n",
        "cqt_train_norm = np.array(cqt_train) / 255\n",
        "cqt_test_norm = np.array(cqt_test) / 255\n",
        "\n",
        "label_train_encoded = to_categorical(label_train)\n",
        "label_test_encoded = to_categorical(label_test)"
      ]
    },
    {
      "cell_type": "code",
      "execution_count": null,
      "metadata": {
        "colab": {
          "base_uri": "https://localhost:8080/"
        },
        "id": "3FwpH1FltetR",
        "outputId": "3e23290c-18c8-4bb7-bd02-eb4949ecb6a5"
      },
      "outputs": [
        {
          "data": {
            "text/plain": [
              "(147, 224, 224, 3)"
            ]
          },
          "execution_count": 11,
          "metadata": {},
          "output_type": "execute_result"
        }
      ],
      "source": [
        "mel_test_norm.shape"
      ]
    },
    {
      "cell_type": "code",
      "execution_count": null,
      "metadata": {
        "colab": {
          "base_uri": "https://localhost:8080/"
        },
        "id": "7ZuJB0EkthTX",
        "outputId": "7184319a-ad4a-4360-e613-0e44f90fc90c"
      },
      "outputs": [
        {
          "data": {
            "text/plain": [
              "(147, 224, 224, 3)"
            ]
          },
          "execution_count": 12,
          "metadata": {},
          "output_type": "execute_result"
        }
      ],
      "source": [
        "cqt_test_norm.shape"
      ]
    },
    {
      "cell_type": "code",
      "execution_count": null,
      "metadata": {
        "colab": {
          "base_uri": "https://localhost:8080/"
        },
        "id": "jfyF9M2xthfC",
        "outputId": "4dd9e8c2-2d77-4fdb-db58-9dd5947bc86f"
      },
      "outputs": [
        {
          "data": {
            "text/plain": [
              "(835, 224, 224, 3)"
            ]
          },
          "execution_count": 13,
          "metadata": {},
          "output_type": "execute_result"
        }
      ],
      "source": [
        "mel_train_norm.shape"
      ]
    },
    {
      "cell_type": "code",
      "execution_count": null,
      "metadata": {
        "colab": {
          "base_uri": "https://localhost:8080/"
        },
        "id": "Cv_lDwnuthiw",
        "outputId": "2fa0f8d9-1c8b-4e5f-b72c-8060e35b5425"
      },
      "outputs": [
        {
          "data": {
            "text/plain": [
              "(835, 224, 224, 3)"
            ]
          },
          "execution_count": 14,
          "metadata": {},
          "output_type": "execute_result"
        }
      ],
      "source": [
        "cqt_train_norm.shape"
      ]
    },
    {
      "cell_type": "code",
      "execution_count": null,
      "metadata": {
        "colab": {
          "base_uri": "https://localhost:8080/"
        },
        "id": "lUwDjA1nthqt",
        "outputId": "9b8a4066-c08a-436b-941d-3e79aaf17dab"
      },
      "outputs": [
        {
          "data": {
            "text/plain": [
              "(835, 5)"
            ]
          },
          "execution_count": 15,
          "metadata": {},
          "output_type": "execute_result"
        }
      ],
      "source": [
        "label_train_encoded.shape"
      ]
    },
    {
      "cell_type": "code",
      "execution_count": null,
      "metadata": {
        "colab": {
          "base_uri": "https://localhost:8080/"
        },
        "id": "HAFJPmlOthzM",
        "outputId": "5fade84d-9275-4081-dfa0-40f9daf803df"
      },
      "outputs": [
        {
          "data": {
            "text/plain": [
              "(147, 5)"
            ]
          },
          "execution_count": 16,
          "metadata": {},
          "output_type": "execute_result"
        }
      ],
      "source": [
        "label_test_encoded.shape"
      ]
    },
    {
      "cell_type": "code",
      "execution_count": null,
      "metadata": {
        "id": "AgbCXGUatcYx"
      },
      "outputs": [],
      "source": [
        "# Define input layers\n",
        "mel_input = Input(shape=(224, 224, 3))  # Modify the shape according to your mel spectrogram dimensions\n",
        "cqt_input = Input(shape=(224, 224, 3))\n",
        "\n",
        "# Convolutional layers for Mel spectrograms\n",
        "mel_conv = Conv2D(32, kernel_size=(3, 3), activation='relu')(mel_input)\n",
        "mel_conv = MaxPooling2D(pool_size=(2, 2))(mel_conv)\n",
        "mel_conv = Conv2D(64, kernel_size=(3, 3), activation='relu')(mel_conv)\n",
        "mel_conv = MaxPooling2D(pool_size=(2, 2))(mel_conv)\n",
        "mel_conv = Conv2D(128, kernel_size=(3, 3), activation='relu')(mel_conv)\n",
        "mel_conv = MaxPooling2D(pool_size=(2, 2))(mel_conv)\n",
        "mel_conv = Flatten()(mel_conv)\n",
        "\n",
        "# Convolutional layers for CQT spectrograms\n",
        "cqt_conv = Conv2D(32, kernel_size=(3, 3), activation='relu')(cqt_input)\n",
        "cqt_conv = MaxPooling2D(pool_size=(2, 2))(cqt_conv)\n",
        "cqt_conv = Conv2D(64, kernel_size=(3, 3), activation='relu')(cqt_conv)\n",
        "cqt_conv = MaxPooling2D(pool_size=(2, 2))(cqt_conv)\n",
        "cqt_conv = Conv2D(128, kernel_size=(3, 3), activation='relu')(cqt_conv)\n",
        "cqt_conv = MaxPooling2D(pool_size=(2, 2))(cqt_conv)\n",
        "cqt_conv = Flatten()(cqt_conv)\n",
        "\n",
        "# Merge the branches\n",
        "merged = concatenate([mel_conv, cqt_conv])\n",
        "\n",
        "# Dense layers for classification\n",
        "dense = Dense(256, activation='relu')(merged)\n",
        "dense = Dropout(0.5)(dense)  # Add dropout with a rate of 0.5\n",
        "dense = Dense(128, activation='relu')(dense)\n",
        "dense = Dropout(0.5)(dense)  # Add dropout with a rate of 0.5\n",
        "output = Dense(5, activation='softmax')(dense)\n",
        "\n",
        "# Define the model\n",
        "model = Model(inputs=[mel_input, cqt_input], outputs=output)\n",
        "\n",
        "# Compile the model\n",
        "model.compile(loss='categorical_crossentropy', optimizer=Adam(), metrics=['accuracy'])\n"
      ]
    },
    {
      "cell_type": "code",
      "execution_count": null,
      "metadata": {
        "id": "upEPOy7Qto8J"
      },
      "outputs": [],
      "source": [
        "from tensorflow.keras.callbacks import EarlyStopping\n",
        "\n",
        "# Define early stopping callback\n",
        "earlystop_callback = EarlyStopping(\n",
        "    monitor='val_accuracy', patience=5, mode='max', verbose=1, restore_best_weights=True\n",
        ")\n",
        "\n"
      ]
    },
    {
      "cell_type": "code",
      "execution_count": null,
      "metadata": {
        "id": "i0nVZIHqtqUw"
      },
      "outputs": [],
      "source": [
        "from skimage.transform import resize\n",
        "\n",
        "def spec_augment(spec, num_time_drop=2, num_freq_drop=2, max_time_stripes=2, max_freq_stripes=2):\n",
        "    augmented_spec = spec.copy()\n",
        "\n",
        "    # Apply time dropping\n",
        "    for _ in range(num_time_drop):\n",
        "        time_start = np.random.randint(0, spec.shape[0] - 1)\n",
        "        time_end = np.random.randint(time_start + 1, spec.shape[0])\n",
        "        augmented_spec[time_start:time_end, :] = 0\n",
        "\n",
        "    # Apply frequency dropping\n",
        "    for _ in range(num_freq_drop):\n",
        "        freq_start = np.random.randint(0, spec.shape[1] - 1)\n",
        "        freq_end = np.random.randint(freq_start + 1, spec.shape[1])\n",
        "        augmented_spec[:, freq_start:freq_end] = 0\n",
        "\n",
        "    # Apply time warping\n",
        "    for _ in range(max_time_stripes):\n",
        "        time_start = np.random.randint(0, spec.shape[0] - 1)\n",
        "        time_end = np.random.randint(time_start + 1, spec.shape[0])\n",
        "        time_mid = np.random.randint(time_start, time_end)\n",
        "        time_mid_val = spec[time_mid, :]\n",
        "        augmented_spec[time_start:time_mid, :] = augmented_spec[time_start:time_mid, :][::-1]\n",
        "        augmented_spec[time_mid:time_end, :] = augmented_spec[time_mid:time_end, :][::-1]\n",
        "        augmented_spec[time_start:time_end, :] = time_mid_val\n",
        "\n",
        "    # Apply frequency warping\n",
        "    for _ in range(max_freq_stripes):\n",
        "        freq_start = np.random.randint(0, spec.shape[1] - 1)\n",
        "        freq_end = np.random.randint(freq_start + 1, spec.shape[1])\n",
        "        freq_mid = np.random.randint(freq_start, freq_end)\n",
        "        freq_mid_val = spec[:, freq_mid]\n",
        "        freq_mid_val = np.expand_dims(freq_mid_val, axis=1)\n",
        "        freq_mid_val = np.repeat(freq_mid_val, freq_end - freq_start, axis=1)\n",
        "        augmented_spec[:, freq_start:freq_end] = freq_mid_val\n",
        "\n",
        "    augmented_spec = resize(augmented_spec, (224, 224, 3), preserve_range=True)\n",
        "\n",
        "    return augmented_spec\n"
      ]
    },
    {
      "cell_type": "code",
      "execution_count": null,
      "metadata": {
        "colab": {
          "background_save": true,
          "base_uri": "https://localhost:8080/"
        },
        "id": "uizZqRKYtrq4",
        "outputId": "dd8d5829-3f17-403b-e93a-d2339912b27b"
      },
      "outputs": [
        {
          "name": "stdout",
          "output_type": "stream",
          "text": [
            "Fold: 1\n",
            "Epoch 1/100\n",
            "38/38 [==============================] - 154s 4s/step - loss: 0.4084 - accuracy: 0.8612 - val_loss: 0.2783 - val_accuracy: 0.8980\n",
            "Epoch 2/100\n",
            "38/38 [==============================] - 151s 4s/step - loss: 0.2520 - accuracy: 0.9107 - val_loss: 0.2852 - val_accuracy: 0.9116\n",
            "Epoch 3/100\n",
            "38/38 [==============================] - 153s 4s/step - loss: 0.1340 - accuracy: 0.9529 - val_loss: 0.3581 - val_accuracy: 0.9184\n",
            "Epoch 4/100\n",
            "38/38 [==============================] - 155s 4s/step - loss: 0.1080 - accuracy: 0.9612 - val_loss: 0.3983 - val_accuracy: 0.9388\n",
            "Epoch 5/100\n",
            "38/38 [==============================] - 152s 4s/step - loss: 0.0950 - accuracy: 0.9595 - val_loss: 0.6060 - val_accuracy: 0.8435\n",
            "Epoch 6/100\n",
            "38/38 [==============================] - 152s 4s/step - loss: 0.0818 - accuracy: 0.9686 - val_loss: 0.4686 - val_accuracy: 0.8844\n",
            "Epoch 7/100\n",
            "38/38 [==============================] - 153s 4s/step - loss: 0.0536 - accuracy: 0.9843 - val_loss: 0.4190 - val_accuracy: 0.8912\n",
            "Epoch 8/100\n",
            "38/38 [==============================] - 153s 4s/step - loss: 0.0406 - accuracy: 0.9876 - val_loss: 0.6413 - val_accuracy: 0.8912\n",
            "Epoch 9/100\n",
            "38/38 [==============================] - ETA: 0s - loss: 0.0380 - accuracy: 0.9884Restoring model weights from the end of the best epoch: 4.\n",
            "38/38 [==============================] - 152s 4s/step - loss: 0.0380 - accuracy: 0.9884 - val_loss: 0.5242 - val_accuracy: 0.8776\n",
            "Epoch 9: early stopping\n",
            "Fold: 2\n",
            "Epoch 1/100\n",
            "38/38 [==============================] - 153s 4s/step - loss: 0.3693 - accuracy: 0.8769 - val_loss: 0.2531 - val_accuracy: 0.8912\n",
            "Epoch 2/100\n",
            "38/38 [==============================] - 150s 4s/step - loss: 0.2132 - accuracy: 0.9240 - val_loss: 0.3647 - val_accuracy: 0.9184\n",
            "Epoch 3/100\n",
            "38/38 [==============================] - 152s 4s/step - loss: 0.1382 - accuracy: 0.9562 - val_loss: 0.5301 - val_accuracy: 0.8912\n",
            "Epoch 4/100\n",
            "38/38 [==============================] - 152s 4s/step - loss: 0.0805 - accuracy: 0.9702 - val_loss: 0.4980 - val_accuracy: 0.9184\n",
            "Epoch 5/100\n",
            "38/38 [==============================] - 152s 4s/step - loss: 0.0757 - accuracy: 0.9793 - val_loss: 0.5307 - val_accuracy: 0.9048\n",
            "Epoch 6/100\n",
            "38/38 [==============================] - 150s 4s/step - loss: 0.0542 - accuracy: 0.9835 - val_loss: 0.5790 - val_accuracy: 0.8912\n",
            "Epoch 7/100\n",
            "38/38 [==============================] - 154s 4s/step - loss: 0.0478 - accuracy: 0.9835 - val_loss: 0.6503 - val_accuracy: 0.9320\n",
            "Epoch 8/100\n",
            "38/38 [==============================] - 152s 4s/step - loss: 0.0400 - accuracy: 0.9893 - val_loss: 0.4297 - val_accuracy: 0.9456\n",
            "Epoch 9/100\n",
            "38/38 [==============================] - 152s 4s/step - loss: 0.0542 - accuracy: 0.9793 - val_loss: 0.5055 - val_accuracy: 0.9184\n",
            "Epoch 10/100\n",
            "38/38 [==============================] - 152s 4s/step - loss: 0.0268 - accuracy: 0.9934 - val_loss: 0.7832 - val_accuracy: 0.9252\n",
            "Epoch 11/100\n",
            "38/38 [==============================] - 151s 4s/step - loss: 0.0295 - accuracy: 0.9909 - val_loss: 0.7019 - val_accuracy: 0.9048\n",
            "Epoch 12/100\n",
            "38/38 [==============================] - 158s 4s/step - loss: 0.0514 - accuracy: 0.9876 - val_loss: 0.7680 - val_accuracy: 0.8980\n",
            "Epoch 13/100\n",
            "38/38 [==============================] - ETA: 0s - loss: 0.0245 - accuracy: 0.9926Restoring model weights from the end of the best epoch: 8.\n",
            "38/38 [==============================] - 151s 4s/step - loss: 0.0245 - accuracy: 0.9926 - val_loss: 0.7411 - val_accuracy: 0.9048\n",
            "Epoch 13: early stopping\n",
            "Fold: 3\n",
            "Epoch 1/100\n",
            "38/38 [==============================] - 152s 4s/step - loss: 0.4114 - accuracy: 0.8573 - val_loss: 0.4200 - val_accuracy: 0.8367\n",
            "Epoch 2/100\n",
            "38/38 [==============================] - 150s 4s/step - loss: 0.2350 - accuracy: 0.9237 - val_loss: 0.4950 - val_accuracy: 0.8639\n",
            "Epoch 3/100\n",
            "38/38 [==============================] - 152s 4s/step - loss: 0.1418 - accuracy: 0.9502 - val_loss: 0.4435 - val_accuracy: 0.9252\n",
            "Epoch 4/100\n",
            "38/38 [==============================] - 152s 4s/step - loss: 0.0898 - accuracy: 0.9726 - val_loss: 0.5002 - val_accuracy: 0.9252\n",
            "Epoch 5/100\n",
            "38/38 [==============================] - 149s 4s/step - loss: 0.0692 - accuracy: 0.9776 - val_loss: 0.7923 - val_accuracy: 0.8707\n",
            "Epoch 6/100\n",
            "38/38 [==============================] - 148s 4s/step - loss: 0.0586 - accuracy: 0.9793 - val_loss: 0.5989 - val_accuracy: 0.8707\n",
            "Epoch 7/100\n",
            "38/38 [==============================] - 148s 4s/step - loss: 0.0469 - accuracy: 0.9859 - val_loss: 0.6123 - val_accuracy: 0.8844\n",
            "Epoch 8/100\n",
            "38/38 [==============================] - ETA: 0s - loss: 0.0312 - accuracy: 0.9884Restoring model weights from the end of the best epoch: 3.\n",
            "38/38 [==============================] - 148s 4s/step - loss: 0.0312 - accuracy: 0.9884 - val_loss: 0.4922 - val_accuracy: 0.9184\n",
            "Epoch 8: early stopping\n",
            "Fold: 4\n",
            "Epoch 1/100\n",
            "38/38 [==============================] - 148s 4s/step - loss: 0.3640 - accuracy: 0.8728 - val_loss: 0.3591 - val_accuracy: 0.8912\n",
            "Epoch 2/100\n",
            "38/38 [==============================] - 147s 4s/step - loss: 0.1939 - accuracy: 0.9264 - val_loss: 0.5413 - val_accuracy: 0.8912\n",
            "Epoch 3/100\n",
            "38/38 [==============================] - 145s 4s/step - loss: 0.1246 - accuracy: 0.9582 - val_loss: 0.6229 - val_accuracy: 0.8639\n",
            "Epoch 4/100\n",
            "38/38 [==============================] - 148s 4s/step - loss: 0.0864 - accuracy: 0.9749 - val_loss: 0.6769 - val_accuracy: 0.8435\n",
            "Epoch 5/100\n",
            "38/38 [==============================] - 144s 4s/step - loss: 0.0772 - accuracy: 0.9757 - val_loss: 0.6978 - val_accuracy: 0.8435\n",
            "Epoch 6/100\n",
            "38/38 [==============================] - 147s 4s/step - loss: 0.0521 - accuracy: 0.9866 - val_loss: 0.4407 - val_accuracy: 0.9184\n",
            "Epoch 7/100\n",
            "38/38 [==============================] - 147s 4s/step - loss: 0.0507 - accuracy: 0.9799 - val_loss: 0.5650 - val_accuracy: 0.9252\n",
            "Epoch 8/100\n",
            "38/38 [==============================] - 147s 4s/step - loss: 0.0538 - accuracy: 0.9833 - val_loss: 0.5016 - val_accuracy: 0.9116\n",
            "Epoch 9/100\n",
            "38/38 [==============================] - 147s 4s/step - loss: 0.0283 - accuracy: 0.9925 - val_loss: 0.6311 - val_accuracy: 0.9116\n",
            "Epoch 10/100\n",
            "38/38 [==============================] - 152s 4s/step - loss: 0.0396 - accuracy: 0.9900 - val_loss: 0.6673 - val_accuracy: 0.9184\n",
            "Epoch 11/100\n",
            "38/38 [==============================] - 146s 4s/step - loss: 0.0342 - accuracy: 0.9908 - val_loss: 0.6468 - val_accuracy: 0.9116\n",
            "Epoch 12/100\n",
            "38/38 [==============================] - ETA: 0s - loss: 0.0218 - accuracy: 0.9908Restoring model weights from the end of the best epoch: 7.\n",
            "38/38 [==============================] - 148s 4s/step - loss: 0.0218 - accuracy: 0.9908 - val_loss: 0.7290 - val_accuracy: 0.9184\n",
            "Epoch 12: early stopping\n",
            "Fold: 5\n",
            "Epoch 1/100\n",
            "40/40 [==============================] - 157s 4s/step - loss: 0.3838 - accuracy: 0.8695 - val_loss: 0.4701 - val_accuracy: 0.8571\n",
            "Epoch 2/100\n",
            "40/40 [==============================] - 159s 4s/step - loss: 0.2419 - accuracy: 0.9141 - val_loss: 0.4227 - val_accuracy: 0.9116\n",
            "Epoch 3/100\n",
            "40/40 [==============================] - 157s 4s/step - loss: 0.1359 - accuracy: 0.9523 - val_loss: 0.5420 - val_accuracy: 0.9184\n",
            "Epoch 4/100\n",
            "40/40 [==============================] - 158s 4s/step - loss: 0.0943 - accuracy: 0.9648 - val_loss: 0.5056 - val_accuracy: 0.9184\n",
            "Epoch 5/100\n",
            "36/40 [==========================>...] - ETA: 16s - loss: 0.0604 - accuracy: 0.9774"
          ]
        }
      ],
      "source": [
        "# Define the number of folds\n",
        "n_folds = 5\n",
        "\n",
        "# Create an instance of KFold\n",
        "kf = KFold(n_splits=n_folds, shuffle=True)\n",
        "\n",
        "fold = 1\n",
        "for train_index, val_index in kf.split(mel_train_norm):\n",
        "    print(f'Fold: {fold}')\n",
        "\n",
        "    # Get the training and validation data for the current fold\n",
        "    mel_train_fold = mel_train_norm[train_index]\n",
        "    mel_val_fold = mel_train_norm[val_index]\n",
        "    cqt_train_fold = cqt_train_norm[train_index]\n",
        "    cqt_val_fold = cqt_train_norm[val_index]\n",
        "    label_train_fold = label_train_encoded[train_index]\n",
        "    label_val_fold = label_train_encoded[val_index]\n",
        "\n",
        "    # Calculate the count of each class in the training set\n",
        "    class_counts = np.sum(label_train_fold, axis=0)\n",
        "\n",
        "    # Find the majority class count\n",
        "    majority_class_count = np.max(class_counts)\n",
        "\n",
        "    # Augment the minority classes to match the majority class count using SpecAugment\n",
        "    for i, count in enumerate(class_counts):\n",
        "        if count < majority_class_count:\n",
        "            # Determine the number of SpecAugment augmentations required for the current class\n",
        "            num_augmentations = int(majority_class_count - count)\n",
        "\n",
        "            # Get the indices of the samples belonging to the current class\n",
        "            class_indices = np.where(label_train_fold[:, i] == 1)[0]\n",
        "\n",
        "            # Randomly select samples from the current class for SpecAugment augmentation\n",
        "            selected_indices = np.random.choice(class_indices, size=num_augmentations, replace=True)\n",
        "\n",
        "            # Apply SpecAugment augmentation to the selected samples for both Mel and CQT spectrograms\n",
        "            augmented_mel_train = []\n",
        "            augmented_cqt_train = []\n",
        "            augmented_labels = []\n",
        "            for idx in selected_indices:\n",
        "                augmented_mel_spec = spec_augment(mel_train_fold[idx])\n",
        "                augmented_cqt_spec = spec_augment(cqt_train_fold[idx])\n",
        "                augmented_label = label_train_fold[idx]\n",
        "                augmented_mel_train.append(augmented_mel_spec)\n",
        "                augmented_cqt_train.append(augmented_cqt_spec)\n",
        "                augmented_labels.append(augmented_label)\n",
        "            augmented_mel_train = np.array(augmented_mel_train)\n",
        "            augmented_cqt_train = np.array(augmented_cqt_train)\n",
        "            augmented_labels = np.array(augmented_labels)\n",
        "\n",
        "            # Concatenate the augmented samples with the original training data and labels\n",
        "            mel_train_fold = np.concatenate((mel_train_fold, augmented_mel_train))\n",
        "            cqt_train_fold = np.concatenate((cqt_train_fold, augmented_cqt_train))\n",
        "            label_train_fold = np.concatenate((label_train_fold, augmented_labels))\n",
        "\n",
        "    # Fit the model using the augmented data\n",
        "    history = model.fit(\n",
        "        [mel_train_fold, cqt_train_fold],\n",
        "        label_train_fold,\n",
        "        batch_size=32,\n",
        "        epochs=100,\n",
        "        validation_data=([mel_test_norm, cqt_test_norm], label_test_encoded),\n",
        "        callbacks=[earlystop_callback]\n",
        "    )\n",
        "    \n",
        "\n",
        "\n",
        "\n",
        "    fold += 1\n"
      ]
    },
    {
      "cell_type": "code",
      "execution_count": null,
      "metadata": {
        "colab": {
          "base_uri": "https://localhost:8080/"
        },
        "id": "TvUCtaEztuWV",
        "outputId": "aa4b320b-4c9d-46d2-cc6c-f7689c185f20"
      },
      "outputs": [
        {
          "name": "stdout",
          "output_type": "stream",
          "text": [
            "5/5 [==============================] - 6s 1s/step\n",
            "Accuracy: 0.9319727891156463\n",
            "Precision: 0.9333012509032917\n",
            "Recall: 0.9319727891156463\n",
            "F1 Score: 0.9313639765252669\n"
          ]
        }
      ],
      "source": [
        "from sklearn.metrics import accuracy_score, precision_score, recall_score, f1_score\n",
        "\n",
        "# Make predictions on the test data\n",
        "y_pred = model.predict([mel_test_norm, cqt_test_norm])\n",
        "\n",
        "# Convert the predictions from one-hot encoded format to class labels\n",
        "y_pred_labels = np.argmax(y_pred, axis=1)\n",
        "y_true_labels = np.argmax(label_test_encoded, axis=1)\n",
        "\n",
        "# Calculate evaluation metrics\n",
        "accuracy = accuracy_score(y_true_labels, y_pred_labels)\n",
        "precision = precision_score(y_true_labels, y_pred_labels, average='weighted')\n",
        "recall = recall_score(y_true_labels, y_pred_labels, average='weighted')\n",
        "f1 = f1_score(y_true_labels, y_pred_labels, average='weighted')\n",
        "\n",
        "\n",
        "# Print the evaluation metrics\n",
        "print(\"Accuracy:\", accuracy)\n",
        "print(\"Precision:\", precision)\n",
        "print(\"Recall:\", recall)\n",
        "print(\"F1 Score:\", f1)\n",
        "\n",
        "\n"
      ]
    },
    {
      "cell_type": "code",
      "execution_count": null,
      "metadata": {
        "id": "gyh4qdhFtuZ4"
      },
      "outputs": [],
      "source": [
        "\n",
        "\n",
        "from sklearn.metrics import confusion_matrix\n",
        "\n",
        "# Calculate the confusion matrix\n",
        "confusion_mat = confusion_matrix(y_true_labels, y_pred_labels)\n",
        "\n",
        "# Calculate accuracy scores for each class\n",
        "class_accuracy = confusion_mat.diagonal() / confusion_mat.sum(axis=1)\n",
        "\n",
        "# Print the accuracy scores for each class\n",
        "for i, acc in enumerate(class_accuracy):\n",
        "    print(f\"Accuracy for class {i}: {acc}\")\n"
      ]
    },
    {
      "cell_type": "code",
      "execution_count": null,
      "metadata": {
        "id": "RcLln5XGtuke"
      },
      "outputs": [],
      "source": [
        "import matplotlib.pyplot as plt\n",
        "\n",
        "# Get the training history\n",
        "train_loss = history.history['loss']\n",
        "val_loss = history.history['val_loss']\n",
        "train_acc = history.history['accuracy']\n",
        "val_acc = history.history['val_accuracy']\n",
        "\n",
        "# Plot the training curve\n",
        "epochs = range(1, len(train_loss) + 1)\n",
        "\n",
        "plt.figure(figsize=(12, 4))\n",
        "\n",
        "# Plot the loss curve\n",
        "plt.subplot(1, 2, 1)\n",
        "plt.plot(epochs, train_loss, 'b-', label='Training Loss')\n",
        "plt.plot(epochs, val_loss, 'r-', label='Validation Loss')\n",
        "plt.title('Training and Validation Loss')\n",
        "plt.xlabel('Epochs')\n",
        "plt.ylabel('Loss')\n",
        "plt.legend()\n",
        "\n",
        "# Plot the accuracy curve\n",
        "plt.subplot(1, 2, 2)\n",
        "plt.plot(epochs, train_acc, 'b-', label='Training Accuracy')\n",
        "plt.plot(epochs, val_acc, 'r-', label='Validation Accuracy')\n",
        "plt.title('Training and Validation Accuracy')\n",
        "plt.xlabel('Epochs')\n",
        "plt.ylabel('Accuracy')\n",
        "plt.legend()\n",
        "\n",
        "plt.tight_layout()\n",
        "plt.show()\n"
      ]
    },
    {
      "cell_type": "code",
      "execution_count": null,
      "metadata": {
        "id": "TXq2OFATtuoB"
      },
      "outputs": [],
      "source": [
        "from tensorflow.keras.utils import plot_model\n",
        "\n",
        "# Plot the model architecture\n",
        "plot_model(model, to_file='/content/drive/MyDrive/Latest_model_architecture.png', show_shapes=True)\n"
      ]
    },
    {
      "cell_type": "code",
      "execution_count": null,
      "metadata": {
        "id": "gxfVvhBPt3Vm"
      },
      "outputs": [],
      "source": [
        "model.save('/content/drive/MyDrive/BabyCryAnalysisV3.h5')"
      ]
    },
    {
      "cell_type": "code",
      "execution_count": null,
      "metadata": {
        "id": "atWw_wQX3O6D"
      },
      "outputs": [],
      "source": [
        "  "
      ]
    }
  ],
  "metadata": {
    "colab": {
      "machine_shape": "hm",
      "provenance": []
    },
    "gpuClass": "standard",
    "kernelspec": {
      "display_name": "Python 3",
      "name": "python3"
    }
  },
  "nbformat": 4,
  "nbformat_minor": 0
}