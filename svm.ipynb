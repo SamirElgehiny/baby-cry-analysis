{
 "cells": [
  {
   "cell_type": "code",
   "execution_count": null,
   "metadata": {},
   "outputs": [],
   "source": [
    "import numpy as np\n",
    "import os\n",
    "import wave\n",
    "from sklearn.model_selection import train_test_split\n",
    "from sklearn.preprocessing import StandardScaler\n",
    "from sklearn.svm import SVC\n",
    "from tensorflow.keras.applications import VGG16\n",
    "from tensorflow.keras.preprocessing import image\n",
    "from tensorflow.keras.applications.vgg16 import preprocess_input"
   ]
  },
  {
   "cell_type": "code",
   "execution_count": null,
   "metadata": {},
   "outputs": [],
   "source": [
    "# Load the pre-trained VGG16 model\n",
    "vgg16 = VGG16(weights='imagenet', include_top=False, input_shape=(128, 431, 3))\n"
   ]
  },
  {
   "cell_type": "code",
   "execution_count": null,
   "metadata": {},
   "outputs": [],
   "source": [
    "folder_path = \"\""
   ]
  },
  {
   "cell_type": "code",
   "execution_count": null,
   "metadata": {},
   "outputs": [],
   "source": [
    "# Loop through each subfolder in the folder path\n",
    "features = []\n",
    "labels = []\n",
    "\n",
    "for subfolder in os.listdir(folder_path):\n",
    "    subfolder_path = os.path.join(folder_path, subfolder)\n",
    "    # Loop through each audio file in the subfolder\n",
    "    for filename in os.listdir(subfolder_path):\n",
    "        file_path = os.path.join(subfolder_path, filename)\n",
    "        # Load the audio file and extract features using VGG16\n",
    "        with wave.open(file_path, 'rb') as wav_file:\n",
    "            nchannels, sampwidth, framerate, nframes, comptype, compname = wav_file.getparams()\n",
    "            audio = np.frombuffer(wav_file.readframes(nframes), dtype=np.int16)\n",
    "        audio_3channel = np.stack([audio]*3, axis=-1)\n",
    "        audio_resized = np.resize(audio_3channel, (128, 431, 3))\n",
    "        audio_features = vgg16.predict(preprocess_input(np.expand_dims(audio_resized, axis=0)))\n",
    "        # Append the features and labels to the arrays\n",
    "        features.append(audio_features.flatten())\n",
    "        labels.append(subfolder)"
   ]
  },
  {
   "cell_type": "code",
   "execution_count": null,
   "metadata": {},
   "outputs": [],
   "source": [
    "# Convert the feature and label arrays to numpy arrays\n",
    "X = np.array(features)\n",
    "y = np.array(labels)"
   ]
  },
  {
   "cell_type": "code",
   "execution_count": null,
   "metadata": {},
   "outputs": [],
   "source": [
    "# Split the dataset into training and testing sets\n",
    "X_train, X_test, y_train, y_test = train_test_split(X, y, test_size=0.3, random_state=42)"
   ]
  },
  {
   "cell_type": "code",
   "execution_count": null,
   "metadata": {},
   "outputs": [],
   "source": [
    "# Preprocess the data by scaling the features to have zero mean and unit variance\n",
    "scaler = StandardScaler()\n",
    "X_train_scaled = scaler.fit_transform(X_train)\n",
    "X_test_scaled = scaler.transform(X_test)\n"
   ]
  },
  {
   "cell_type": "code",
   "execution_count": null,
   "metadata": {},
   "outputs": [],
   "source": [
    "# Train an SVM model on the scaled features\n",
    "svm = SVC(kernel='linear', C=1, random_state=42)\n",
    "svm.fit(X_train_scaled, y_train)"
   ]
  },
  {
   "cell_type": "code",
   "execution_count": null,
   "metadata": {},
   "outputs": [],
   "source": [
    "\n",
    "# Evaluate the model on the testing set\n",
    "score = svm.score(X_test_scaled, y_test)\n",
    "print('Accuracy:', score)"
   ]
  },
  {
   "cell_type": "code",
   "execution_count": null,
   "metadata": {},
   "outputs": [],
   "source": [
    "from sklearn.metrics import accuracy_score, precision_score, recall_score, f1_score\n",
    "\n",
    "y_pred = svm.predict(X_test)\n",
    "\n",
    "test_score = accuracy_score(y_test, y_pred)\n",
    "\n",
    "acc = accuracy_score(y_test, y_pred)\n",
    "prec = precision_score(y_test, y_pred, average='macro')\n",
    "rec = recall_score(y_test, y_pred, average='macro')\n",
    "f1 = f1_score(y_test, y_pred, average='macro')\n",
    "# Print the evaluation metrics\n",
    "print(\"Accuracy: \", acc)\n",
    "print(\"Precision: \", prec)\n",
    "print(\"Recall: \", rec)\n",
    "print(\"F1 score: \", f1)\n"
   ]
  },
  {
   "cell_type": "code",
   "execution_count": null,
   "metadata": {},
   "outputs": [],
   "source": [
    "import matplotlib.pyplot as plt\n",
    "import seaborn as sns\n",
    "from sklearn.metrics import confusion_matrix\n",
    "\n",
    "# Evaluate the model on the testing set\n",
    "y_predicted = svm.predict(X_test_scaled)\n",
    "mat = confusion_matrix(y_test, y_predicted)\n",
    "class_labels = ['belly_pain', 'burping', 'discomfort', 'hungry', 'tired']\n",
    "\n",
    "# Plot the confusion matrix\n",
    "sns.set()\n",
    "plt.figure(figsize=(8, 6))\n",
    "sns.heatmap(mat, square=True, annot=True, fmt='d', cbar=False, cmap='Blues',\n",
    "            xticklabels=class_labels,\n",
    "            yticklabels=class_labels)\n",
    "\n",
    "plt.xlabel('Predicted label')\n",
    "plt.ylabel('Actual label')\n",
    "plt.show()"
   ]
  },
  {
   "cell_type": "code",
   "execution_count": null,
   "metadata": {},
   "outputs": [],
   "source": [
    "audio_file_path = \" \"\n",
    "with wave.open(audio_file_path, 'rb') as wav_file:\n",
    "    nchannels, sampwidth, framerate, nframes, comptype, compname = wav_file.getparams()\n",
    "    audio = np.frombuffer(wav_file.readframes(nframes), dtype=np.int16)\n",
    "audio_3channel = np.stack([audio]*3, axis=-1)\n",
    "audio_resized = np.resize(audio_3channel, (128, 431, 3))\n",
    "audio_features = vgg16.predict(preprocess_input(np.expand_dims(audio_resized, axis=0)))\n",
    "audio_features_flat = audio_features.flatten()\n",
    "\n",
    "# Preprocess the features using the saved scaler\n",
    "audio_features_scaled = scaler.transform(audio_features_flat.reshape(1, -1))\n",
    "\n",
    "\n"
   ]
  },
  {
   "cell_type": "code",
   "execution_count": null,
   "metadata": {},
   "outputs": [],
   "source": [
    "# Make a prediction using the trained SVM model\n",
    "prediction = svm.predict(audio_features_scaled)\n",
    "print('The predicted class is:', prediction[0])"
   ]
  }
 ],
 "metadata": {
  "kernelspec": {
   "display_name": "Python 3.9.15 ('tensorflow')",
   "language": "python",
   "name": "python3"
  },
  "language_info": {
   "codemirror_mode": {
    "name": "ipython",
    "version": 3
   },
   "file_extension": ".py",
   "mimetype": "text/x-python",
   "name": "python",
   "nbconvert_exporter": "python",
   "pygments_lexer": "ipython3",
   "version": "3.10.0"
  },
  "orig_nbformat": 4,
  "vscode": {
   "interpreter": {
    "hash": "07a09c841ba39458f252ead00d92da4c332a172b7b2badbd19d8eaf1a72fc4a2"
   }
  }
 },
 "nbformat": 4,
 "nbformat_minor": 2
}
